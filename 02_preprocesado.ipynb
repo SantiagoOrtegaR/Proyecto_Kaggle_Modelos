{
  "nbformat": 4,
  "nbformat_minor": 0,
  "metadata": {
    "colab": {
      "provenance": [],
      "include_colab_link": true
    },
    "kernelspec": {
      "name": "python3",
      "display_name": "Python 3"
    },
    "language_info": {
      "name": "python"
    }
  },
  "cells": [
    {
      "cell_type": "markdown",
      "metadata": {
        "id": "view-in-github",
        "colab_type": "text"
      },
      "source": [
        "<a href=\"https://colab.research.google.com/github/SantiagoOrtegaR/Proyecto_Kaggle_Modelos/blob/main/02_preprocesado.ipynb\" target=\"_parent\"><img src=\"https://colab.research.google.com/assets/colab-badge.svg\" alt=\"Open In Colab\"/></a>"
      ]
    },
    {
      "cell_type": "code",
      "execution_count": 1,
      "metadata": {
        "colab": {
          "base_uri": "https://localhost:8080/"
        },
        "id": "4WZ0hLWFq-sq",
        "outputId": "5efc853c-d86c-4c91-9647-656c389e4440"
      },
      "outputs": [
        {
          "output_type": "stream",
          "name": "stdout",
          "text": [
            "Mounted at /content/drive\n"
          ]
        }
      ],
      "source": [
        "from google.colab import drive\n",
        "drive.mount('/content/drive')"
      ]
    },
    {
      "cell_type": "code",
      "source": [
        "#Instalar las librerias necesarias para la ejecución\n",
        "\n",
        "!pip install gdown\n",
        "\n",
        "import gdown\n",
        "import pandas as pd\n",
        "import seaborn as sns\n",
        "import matplotlib.pyplot as plt\n",
        "from sklearn.impute import SimpleImputer\n",
        "from sklearn.preprocessing import MinMaxScaler"
      ],
      "metadata": {
        "colab": {
          "base_uri": "https://localhost:8080/"
        },
        "id": "kEodud5w71-A",
        "outputId": "d38abb75-0345-4b5e-9791-f9da04cbc7b6"
      },
      "execution_count": 20,
      "outputs": [
        {
          "output_type": "stream",
          "name": "stdout",
          "text": [
            "Requirement already satisfied: gdown in /usr/local/lib/python3.12/dist-packages (5.2.0)\n",
            "Requirement already satisfied: beautifulsoup4 in /usr/local/lib/python3.12/dist-packages (from gdown) (4.13.5)\n",
            "Requirement already satisfied: filelock in /usr/local/lib/python3.12/dist-packages (from gdown) (3.20.0)\n",
            "Requirement already satisfied: requests[socks] in /usr/local/lib/python3.12/dist-packages (from gdown) (2.32.4)\n",
            "Requirement already satisfied: tqdm in /usr/local/lib/python3.12/dist-packages (from gdown) (4.67.1)\n",
            "Requirement already satisfied: soupsieve>1.2 in /usr/local/lib/python3.12/dist-packages (from beautifulsoup4->gdown) (2.8)\n",
            "Requirement already satisfied: typing-extensions>=4.0.0 in /usr/local/lib/python3.12/dist-packages (from beautifulsoup4->gdown) (4.15.0)\n",
            "Requirement already satisfied: charset_normalizer<4,>=2 in /usr/local/lib/python3.12/dist-packages (from requests[socks]->gdown) (3.4.4)\n",
            "Requirement already satisfied: idna<4,>=2.5 in /usr/local/lib/python3.12/dist-packages (from requests[socks]->gdown) (3.11)\n",
            "Requirement already satisfied: urllib3<3,>=1.21.1 in /usr/local/lib/python3.12/dist-packages (from requests[socks]->gdown) (2.5.0)\n",
            "Requirement already satisfied: certifi>=2017.4.17 in /usr/local/lib/python3.12/dist-packages (from requests[socks]->gdown) (2025.10.5)\n",
            "Requirement already satisfied: PySocks!=1.5.7,>=1.5.6 in /usr/local/lib/python3.12/dist-packages (from requests[socks]->gdown) (1.7.1)\n"
          ]
        }
      ]
    },
    {
      "cell_type": "code",
      "source": [
        "# ID del archivo en Google Drive\n",
        "file_id = \"1nWl7vNpI2XHd_B6cwAgIAYClQ3J9F6r1\"\n",
        "download_url = f\"https://drive.google.com/uc?id={file_id}\"\n",
        "\n",
        "# Descargar el archivo CSV a local\n",
        "output = \"archivo.csv\"\n",
        "gdown.download(download_url, output, quiet=False)\n",
        "\n",
        "# Leer CSV con pandas\n",
        "df = pd.read_csv(output)\n"
      ],
      "metadata": {
        "colab": {
          "base_uri": "https://localhost:8080/"
        },
        "id": "MrzyQ0sarx9c",
        "outputId": "6e0558db-04a8-4272-eaba-b2c896d85510"
      },
      "execution_count": 21,
      "outputs": [
        {
          "output_type": "stream",
          "name": "stderr",
          "text": [
            "Downloading...\n",
            "From (original): https://drive.google.com/uc?id=1nWl7vNpI2XHd_B6cwAgIAYClQ3J9F6r1\n",
            "From (redirected): https://drive.google.com/uc?id=1nWl7vNpI2XHd_B6cwAgIAYClQ3J9F6r1&confirm=t&uuid=f6393cfb-e9ea-477a-af68-a3aa3c3ba3cf\n",
            "To: /content/archivo.csv\n",
            "100%|██████████| 144M/144M [00:01<00:00, 93.6MB/s]\n"
          ]
        }
      ]
    },
    {
      "cell_type": "code",
      "source": [
        "# Valores faltantes\n",
        "k = df.isna().sum()\n",
        "k[k!=0]"
      ],
      "metadata": {
        "colab": {
          "base_uri": "https://localhost:8080/",
          "height": 429
        },
        "id": "20hC4Te_xKL-",
        "outputId": "c90d3f2c-e881-43c1-e0c6-4c244f036260"
      },
      "execution_count": 22,
      "outputs": [
        {
          "output_type": "execute_result",
          "data": {
            "text/plain": [
              "E_VALORMATRICULAUNIVERSIDAD     6287\n",
              "E_HORASSEMANATRABAJA           30857\n",
              "F_ESTRATOVIVIENDA              32137\n",
              "F_TIENEINTERNET                26629\n",
              "F_EDUCACIONPADRE               23178\n",
              "F_TIENELAVADORA                39773\n",
              "F_TIENEAUTOMOVIL               43623\n",
              "E_PAGOMATRICULAPROPIO           6498\n",
              "F_TIENECOMPUTADOR              38103\n",
              "F_TIENEINTERNET.1              26629\n",
              "F_EDUCACIONMADRE               23664\n",
              "dtype: int64"
            ],
            "text/html": [
              "<div>\n",
              "<style scoped>\n",
              "    .dataframe tbody tr th:only-of-type {\n",
              "        vertical-align: middle;\n",
              "    }\n",
              "\n",
              "    .dataframe tbody tr th {\n",
              "        vertical-align: top;\n",
              "    }\n",
              "\n",
              "    .dataframe thead th {\n",
              "        text-align: right;\n",
              "    }\n",
              "</style>\n",
              "<table border=\"1\" class=\"dataframe\">\n",
              "  <thead>\n",
              "    <tr style=\"text-align: right;\">\n",
              "      <th></th>\n",
              "      <th>0</th>\n",
              "    </tr>\n",
              "  </thead>\n",
              "  <tbody>\n",
              "    <tr>\n",
              "      <th>E_VALORMATRICULAUNIVERSIDAD</th>\n",
              "      <td>6287</td>\n",
              "    </tr>\n",
              "    <tr>\n",
              "      <th>E_HORASSEMANATRABAJA</th>\n",
              "      <td>30857</td>\n",
              "    </tr>\n",
              "    <tr>\n",
              "      <th>F_ESTRATOVIVIENDA</th>\n",
              "      <td>32137</td>\n",
              "    </tr>\n",
              "    <tr>\n",
              "      <th>F_TIENEINTERNET</th>\n",
              "      <td>26629</td>\n",
              "    </tr>\n",
              "    <tr>\n",
              "      <th>F_EDUCACIONPADRE</th>\n",
              "      <td>23178</td>\n",
              "    </tr>\n",
              "    <tr>\n",
              "      <th>F_TIENELAVADORA</th>\n",
              "      <td>39773</td>\n",
              "    </tr>\n",
              "    <tr>\n",
              "      <th>F_TIENEAUTOMOVIL</th>\n",
              "      <td>43623</td>\n",
              "    </tr>\n",
              "    <tr>\n",
              "      <th>E_PAGOMATRICULAPROPIO</th>\n",
              "      <td>6498</td>\n",
              "    </tr>\n",
              "    <tr>\n",
              "      <th>F_TIENECOMPUTADOR</th>\n",
              "      <td>38103</td>\n",
              "    </tr>\n",
              "    <tr>\n",
              "      <th>F_TIENEINTERNET.1</th>\n",
              "      <td>26629</td>\n",
              "    </tr>\n",
              "    <tr>\n",
              "      <th>F_EDUCACIONMADRE</th>\n",
              "      <td>23664</td>\n",
              "    </tr>\n",
              "  </tbody>\n",
              "</table>\n",
              "</div><br><label><b>dtype:</b> int64</label>"
            ]
          },
          "metadata": {},
          "execution_count": 22
        }
      ]
    },
    {
      "cell_type": "code",
      "source": [
        "#Limpieza de datos ordinales\n",
        "\n",
        "orden_educacion = {\n",
        "    'EducaciÃ³n profesional completa': 0,\n",
        "    'EducaciÃ³n profesional incompleta': 1,\n",
        "    'Ninguno': 2,\n",
        "    'No Aplica': 3,\n",
        "    'No sabe': 4,\n",
        "    'Primaria completa': 5,\n",
        "    'Postgrado': 6,\n",
        "    'Primaria incompleta' : 7,\n",
        "    'Secundaria (Bachillerato) completa' : 8,\n",
        "    'Secundaria (Bachillerato) incompleta' : 9,\n",
        "    'TÃ©cnica o tecnolÃ³gica completa' : 10,\n",
        "    'TÃ©cnica o tecnolÃ³gica incompleta' : 11\n",
        "}\n",
        "\n",
        "\n",
        "orden_estrato = {\n",
        "    'Sin estrato': 0,\n",
        "    'Estrato 1': 1,\n",
        "    'Estrato 2': 2,\n",
        "    'Estrato 3': 3,\n",
        "    'Estrato 4': 4,\n",
        "    'Estrato 5': 5,\n",
        "    'Estrato 6': 6\n",
        "}\n",
        "\n",
        "# Convertir a valores numéricos\n",
        "df['F_EDUCACIONPADRE'] = df['F_EDUCACIONPADRE'].map(orden_educacion)\n",
        "df['F_EDUCACIONMADRE'] = df['F_EDUCACIONMADRE'].map(orden_educacion)\n",
        "df['F_ESTRATOVIVIENDA'] = df['F_ESTRATOVIVIENDA'].map(orden_estrato)\n",
        "\n",
        "# Imputar con mediana\n",
        "imp_median = SimpleImputer(strategy='median')\n",
        "df[['F_EDUCACIONPADRE', 'F_EDUCACIONMADRE', 'F_ESTRATOVIVIENDA']] = imp_median.fit_transform(\n",
        "    df[['F_EDUCACIONPADRE', 'F_EDUCACIONMADRE', 'F_ESTRATOVIVIENDA']]\n",
        ")\n",
        "\n",
        "# Volver a texto\n",
        "reverse_educ = {v: k for k, v in orden_educacion.items()}\n",
        "reverse_estrato = {v: k for k, v in orden_estrato.items()}\n",
        "\n",
        "df['F_EDUCACIONPADRE'] = df['F_EDUCACIONPADRE'].astype(int).map(reverse_educ)\n",
        "df['F_EDUCACIONMADRE'] = df['F_EDUCACIONMADRE'].astype(int).map(reverse_educ)\n",
        "df['F_ESTRATOVIVIENDA'] = df['F_ESTRATOVIVIENDA'].astype(int).map(reverse_estrato)\n",
        "\n",
        "# Columnas binarias (Si/No)\n",
        "bin_cols = ['F_TIENEINTERNET', 'F_TIENELAVADORA', 'F_TIENEAUTOMOVIL',\n",
        "             'E_PAGOMATRICULAPROPIO', 'F_TIENECOMPUTADOR', 'F_TIENEINTERNET.1']\n",
        "\n",
        "imp_mode = SimpleImputer(strategy='most_frequent')\n",
        "df[bin_cols] = imp_mode.fit_transform(df[bin_cols])\n",
        "\n",
        "# Categóricas no ordinales\n",
        "cat_cols = ['E_VALORMATRICULAUNIVERSIDAD', 'E_HORASSEMANATRABAJA']\n",
        "df[cat_cols] = imp_mode.fit_transform(df[cat_cols])\n",
        "\n",
        "#df.to_excel(\"datos_estudiantes_limpios.xlsx\", index=False)"
      ],
      "metadata": {
        "id": "dFFE8yqcx8eQ"
      },
      "execution_count": 23,
      "outputs": []
    },
    {
      "cell_type": "code",
      "source": [
        "# Chequeo valores faltantes\n",
        "k = df.isna().sum()\n",
        "k[k!=0]"
      ],
      "metadata": {
        "colab": {
          "base_uri": "https://localhost:8080/",
          "height": 84
        },
        "id": "N_NhP8lgHS61",
        "outputId": "f26d2aa2-b573-4803-8d7f-6e6d5180fed1"
      },
      "execution_count": 24,
      "outputs": [
        {
          "output_type": "execute_result",
          "data": {
            "text/plain": [
              "Series([], dtype: int64)"
            ],
            "text/html": [
              "<div>\n",
              "<style scoped>\n",
              "    .dataframe tbody tr th:only-of-type {\n",
              "        vertical-align: middle;\n",
              "    }\n",
              "\n",
              "    .dataframe tbody tr th {\n",
              "        vertical-align: top;\n",
              "    }\n",
              "\n",
              "    .dataframe thead th {\n",
              "        text-align: right;\n",
              "    }\n",
              "</style>\n",
              "<table border=\"1\" class=\"dataframe\">\n",
              "  <thead>\n",
              "    <tr style=\"text-align: right;\">\n",
              "      <th></th>\n",
              "      <th>0</th>\n",
              "    </tr>\n",
              "  </thead>\n",
              "  <tbody>\n",
              "  </tbody>\n",
              "</table>\n",
              "</div><br><label><b>dtype:</b> int64</label>"
            ]
          },
          "metadata": {},
          "execution_count": 24
        }
      ]
    },
    {
      "cell_type": "code",
      "source": [
        "#Convertir columnas categoricas en binarias\n",
        "\n",
        "cols_categoricas = ['F_TIENEINTERNET','F_TIENELAVADORA','F_TIENEAUTOMOVIL','E_PRIVADO_LIBERTAD','E_PAGOMATRICULAPROPIO','F_TIENECOMPUTADOR','F_TIENEINTERNET.1']\n",
        "df[cols_categoricas] = df[cols_categoricas].apply(lambda x: x.str.strip().str.lower())\n",
        "df[cols_categoricas] = df[cols_categoricas].replace({\n",
        "    'si': 1, 's': 1,\n",
        "    'no': 0, 'n': 0\n",
        "})\n",
        "\n",
        "# Columnas numéricas a normalizar\n",
        "cols_numericas = ['INDICADOR_1', 'INDICADOR_2', 'INDICADOR_3', 'INDICADOR_4']\n",
        "\n",
        "scaler = MinMaxScaler(feature_range=(0, 1))\n",
        "df[cols_numericas] = scaler.fit_transform(df[cols_numericas])\n",
        "\n",
        "# Verificación rápida\n",
        "print(df.head())"
      ],
      "metadata": {
        "colab": {
          "base_uri": "https://localhost:8080/"
        },
        "id": "GaLdgFpI_Da0",
        "outputId": "b2200392-7c93-45c4-e63a-f8ae9abe6cd3"
      },
      "execution_count": 25,
      "outputs": [
        {
          "output_type": "stream",
          "name": "stderr",
          "text": [
            "/tmp/ipython-input-2222237374.py:5: FutureWarning: Downcasting behavior in `replace` is deprecated and will be removed in a future version. To retain the old behavior, explicitly call `result.infer_objects(copy=False)`. To opt-in to the future behavior, set `pd.set_option('future.no_silent_downcasting', True)`\n",
            "  df[cols_categoricas] = df[cols_categoricas].replace({\n"
          ]
        },
        {
          "output_type": "stream",
          "name": "stdout",
          "text": [
            "       ID  PERIODO_ACADEMICO            E_PRGM_ACADEMICO E_PRGM_DEPARTAMENTO  \\\n",
            "0  904256              20212                  ENFERMERIA              BOGOTÁ   \n",
            "1  645256              20212                     DERECHO           ATLANTICO   \n",
            "2  308367              20203       MERCADEO Y PUBLICIDAD              BOGOTÁ   \n",
            "3  470353              20195  ADMINISTRACION DE EMPRESAS           SANTANDER   \n",
            "4  989032              20212                  PSICOLOGIA           ANTIOQUIA   \n",
            "\n",
            "                E_VALORMATRICULAUNIVERSIDAD E_HORASSEMANATRABAJA  \\\n",
            "0  Entre 5.5 millones y menos de 7 millones    Menos de 10 horas   \n",
            "1  Entre 2.5 millones y menos de 4 millones                    0   \n",
            "2  Entre 2.5 millones y menos de 4 millones      Más de 30 horas   \n",
            "3  Entre 4 millones y menos de 5.5 millones                    0   \n",
            "4  Entre 2.5 millones y menos de 4 millones  Entre 21 y 30 horas   \n",
            "\n",
            "  F_ESTRATOVIVIENDA  F_TIENEINTERNET                    F_EDUCACIONPADRE  \\\n",
            "0         Estrato 3                1                 Primaria incompleta   \n",
            "1         Estrato 3                0                 Primaria incompleta   \n",
            "2         Estrato 3                1  Secundaria (Bachillerato) completa   \n",
            "3         Estrato 4                1                             No sabe   \n",
            "4         Estrato 3                1                   Primaria completa   \n",
            "\n",
            "   F_TIENELAVADORA  ...  E_PRIVADO_LIBERTAD  E_PAGOMATRICULAPROPIO  \\\n",
            "0                1  ...                   0                      0   \n",
            "1                1  ...                   0                      0   \n",
            "2                1  ...                   0                      0   \n",
            "3                1  ...                   0                      0   \n",
            "4                1  ...                   0                      0   \n",
            "\n",
            "   F_TIENECOMPUTADOR  F_TIENEINTERNET.1                    F_EDUCACIONMADRE  \\\n",
            "0                  1                  1                           Postgrado   \n",
            "1                  1                  0  Secundaria (Bachillerato) completa   \n",
            "2                  0                  1  Secundaria (Bachillerato) completa   \n",
            "3                  1                  1  Secundaria (Bachillerato) completa   \n",
            "4                  1                  1                   Primaria completa   \n",
            "\n",
            "  RENDIMIENTO_GLOBAL INDICADOR_1  INDICADOR_2  INDICADOR_3  INDICADOR_4  \n",
            "0         medio-alto    0.490107     0.427105     0.968750     0.804217  \n",
            "1               bajo    0.473364     0.441478     0.912500     0.795181  \n",
            "2               bajo    0.452055     0.439425     0.953125     0.795181  \n",
            "3               alto    0.738204     0.353183     0.787500     0.572289  \n",
            "4         medio-bajo    0.480974     0.476386     0.890625     0.885542  \n",
            "\n",
            "[5 rows x 21 columns]\n"
          ]
        }
      ]
    },
    {
      "cell_type": "code",
      "source": [
        "#Gurdar el nuevo df\n",
        "\n",
        "df.to_csv('/content/drive/MyDrive/IA/train_clean.csv', index=False, encoding='utf-8-sig')"
      ],
      "metadata": {
        "id": "k35ICuyKI4Ge"
      },
      "execution_count": 27,
      "outputs": []
    }
  ]
}